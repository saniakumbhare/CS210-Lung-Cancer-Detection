{
 "cells": [
  {
   "cell_type": "code",
   "execution_count": null,
   "metadata": {},
   "outputs": [],
   "source": [
    "# Importing necessary libraries\n",
    "import pandas as pd\n",
    "\n",
    "# Load the dataset\n",
    "df = pd.read_csv('../data/raw/lung_cancer.csv')\n",
    "\n",
    "# Handling missing values\n",
    "df.fillna(df.mean(), inplace=True)\n",
    "df.fillna(df.mode().iloc[0], inplace=True)\n",
    "\n",
    "# Removing duplicates\n",
    "df.drop_duplicates(inplace=True)\n",
    "\n",
    "# Standardizing gender values\n",
    "df['GENDER'] = df['GENDER'].str.upper()\n",
    "\n",
    "# Save the cleaned data\n",
    "df.to_csv('../data/processed/lung_cancer_cleaned.csv', index=False)\n",
    "\n",
    "# Basic information about the cleaned dataset\n",
    "print(df.info())\n",
    "\n",
    "# Summary statistics of the cleaned dataset\n",
    "print(df.describe())\n"
   ]
  }
 ],
 "metadata": {
  "language_info": {
   "name": "python"
  },
  "orig_nbformat": 4
 },
 "nbformat": 4,
 "nbformat_minor": 2
}
