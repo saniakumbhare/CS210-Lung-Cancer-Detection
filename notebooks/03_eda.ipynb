{
 "cells": [
  {
   "cell_type": "code",
   "execution_count": null,
   "metadata": {},
   "outputs": [],
   "source": [
    "# Importing necessary libraries\n",
    "import pandas as pd\n",
    "import matplotlib.pyplot as plt\n",
    "import seaborn as sns\n",
    "\n",
    "# Load the cleaned dataset\n",
    "df = pd.read_csv('../data/processed/lung_cancer_cleaned.csv')\n",
    "\n",
    "# Plotting the distribution of age groups\n",
    "df['AGE_GROUP'] = pd.cut(df['AGE'], bins=[0, 30, 60, 100], labels=['Young', 'Middle-aged', 'Old'])\n",
    "sns.countplot(x='AGE_GROUP', hue='LUNG_CANCER', data=df)\n",
    "plt.title('Age Group Distribution in Lung Cancer Patients')\n",
    "plt.show()\n",
    "\n",
    "# Correlation heatmap\n",
    "plt.figure(figsize=(12, 8))\n",
    "sns.heatmap(df.corr(), annot=True, fmt=\".2f\")\n",
    "plt.title('Correlation Heatmap')\n",
    "plt.show()\n",
    "\n",
    "# Box plot for age and lung cancer\n",
    "sns.boxplot(x='LUNG_CANCER', y='AGE', data=df)\n",
    "plt.title('Box Plot of Age by Lung Cancer')\n",
    "plt.show()\n"
   ]
  }
 ],
 "metadata": {
  "language_info": {
   "name": "python"
  },
  "orig_nbformat": 4
 },
 "nbformat": 4,
 "nbformat_minor": 2
}
